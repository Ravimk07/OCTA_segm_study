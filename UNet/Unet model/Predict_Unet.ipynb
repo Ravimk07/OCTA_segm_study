{
 "cells": [
  {
   "cell_type": "code",
   "execution_count": null,
   "metadata": {},
   "outputs": [],
   "source": [
    "import numpy as np\n",
    "import os\n",
    "import glob\n",
    "import cv2\n",
    "import random\n",
    "from matplotlib import pyplot as plt\n",
    "from keras.preprocessing.image import ImageDataGenerator"
   ]
  },
  {
   "cell_type": "code",
   "execution_count": null,
   "metadata": {},
   "outputs": [],
   "source": [
    "from keras.models import model_from_json\n",
    "from keras.models import load_model\n",
    "from keras.utils import to_categorical"
   ]
  },
  {
   "cell_type": "code",
   "execution_count": null,
   "metadata": {},
   "outputs": [],
   "source": [
    "# load json and create model\n",
    "json_file = open('model.json', 'r')\n",
    "\n",
    "loaded_model_json = json_file.read()\n",
    "json_file.close()\n",
    "loaded_model = model_from_json(loaded_model_json)\n",
    "\n",
    "# load weights into new model\n",
    "loaded_model.load_weights(\"model.h5\")\n"
   ]
  },
  {
   "cell_type": "code",
   "execution_count": null,
   "metadata": {},
   "outputs": [],
   "source": [
    "data_gen_args = dict(rescale = 1./255)\n",
    "\n",
    "image_datagen = ImageDataGenerator(**data_gen_args)\n",
    "\n",
    "flow_from_dir_params = dict(target_size = (32,32), class_mode=None, shuffle=False, seed=2, color_mode = 'grayscale', batch_size=225)\n",
    "\n",
    "image_generator = image_datagen.flow_from_directory('./test_patches', **flow_from_dir_params)"
   ]
  },
  {
   "cell_type": "code",
   "execution_count": null,
   "metadata": {},
   "outputs": [],
   "source": [
    "predict = loaded_model.predict_generator(image_generator, steps = 1)"
   ]
  },
  {
   "cell_type": "code",
   "execution_count": null,
   "metadata": {},
   "outputs": [],
   "source": [
    "predict.shape"
   ]
  },
  {
   "cell_type": "code",
   "execution_count": null,
   "metadata": {},
   "outputs": [],
   "source": [
    "# Visualize image\n",
    "im = predict[1].reshape(32,32)\n",
    "plt.imshow(im, cmap='gray')"
   ]
  },
  {
   "cell_type": "code",
   "execution_count": null,
   "metadata": {},
   "outputs": [],
   "source": [
    "# Output folder\n",
    "output = './Unet_test_output'\n",
    "os.mkdir(output);"
   ]
  },
  {
   "cell_type": "code",
   "execution_count": null,
   "metadata": {},
   "outputs": [],
   "source": [
    "# Retrieve names\n",
    "j = 0\n",
    "list_name = list()\n",
    "# Set image paths\n",
    "images_path ='./test_im'\n",
    "for infile in glob.glob(images_path + '/*.tif'):\n",
    "    p, im_name = os.path.split(infile)\n",
    "    file, ext = os.path.splitext(im_name)\n",
    "    print(file)\n",
    "    \n",
    "    \n",
    "    im = np.zeros((96, 96))\n",
    "    \n",
    "    im[0:32,0:32] = predict[j +0].reshape(32,32)\n",
    "    im[0:32,32:64] = predict[j+1].reshape(32,32)\n",
    "    im[0:32,64:96] = predict[j+2].reshape(32,32)\n",
    "    im[32:64,0:32] = predict[j+3].reshape(32,32)\n",
    "    im[32:64,32:64] = predict[j+4].reshape(32,32)\n",
    "    im[32:64,64:96] = predict[j+5].reshape(32,32)\n",
    "    im[64:96,0:32] = predict[j+6].reshape(32,32)\n",
    "    im[64:96,32:64] = predict[j+7].reshape(32,32)\n",
    "    im[64:96,64:96] = predict[j+8].reshape(32,32)\n",
    "    \n",
    "    im2 = im[0:91, 0:91]\n",
    "        \n",
    "        \n",
    "    cv2.imwrite(output + '/' + file + '.png' , im2*255)\n",
    "    j = j+9"
   ]
  },
  {
   "cell_type": "code",
   "execution_count": null,
   "metadata": {},
   "outputs": [],
   "source": []
  }
 ],
 "metadata": {
  "kernelspec": {
   "display_name": "Python 3",
   "language": "python",
   "name": "python3"
  },
  "language_info": {
   "codemirror_mode": {
    "name": "ipython",
    "version": 3
   },
   "file_extension": ".py",
   "mimetype": "text/x-python",
   "name": "python",
   "nbconvert_exporter": "python",
   "pygments_lexer": "ipython3",
   "version": "3.6.9"
  }
 },
 "nbformat": 4,
 "nbformat_minor": 2
}
