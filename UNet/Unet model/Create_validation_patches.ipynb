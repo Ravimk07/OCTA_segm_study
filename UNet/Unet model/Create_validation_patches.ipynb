{
 "cells": [
  {
   "cell_type": "code",
   "execution_count": null,
   "metadata": {},
   "outputs": [],
   "source": [
    "import os\n",
    "import random\n",
    "import glob\n",
    "import shutil"
   ]
  },
  {
   "cell_type": "code",
   "execution_count": null,
   "metadata": {},
   "outputs": [],
   "source": [
    "# Create validation folders\n",
    "valid_path =  './validation'\n",
    "lab_valid_path = './lab_validation'\n",
    "\n",
    "os.mkdir(valid_path);\n",
    "os.mkdir(lab_valid_path);\n",
    "\n",
    "valid_path =  './validation/validation'\n",
    "lab_valid_path = './lab_validation/lab_validation'\n",
    "\n",
    "os.mkdir(valid_path);\n",
    "os.mkdir(lab_valid_path);"
   ]
  },
  {
   "cell_type": "code",
   "execution_count": null,
   "metadata": {},
   "outputs": [],
   "source": [
    "path_tr = './training_all/training_all'\n",
    "list_files = []\n",
    "for num, infile in enumerate(glob.glob(path_tr +'/*.png')):\n",
    "    p, im_name = os.path.split(infile)\n",
    "    list_files.append(im_name)\n",
    "    \n",
    "random.seed(1234)\n",
    "indices = random.sample(range(len(list_files)), 3000)"
   ]
  },
  {
   "cell_type": "code",
   "execution_count": null,
   "metadata": {},
   "outputs": [],
   "source": [
    "len(list_files)"
   ]
  },
  {
   "cell_type": "code",
   "execution_count": null,
   "metadata": {},
   "outputs": [],
   "source": [
    "for i in indices:\n",
    "    shutil.move('./training_all/training_all/'+list_files[i], './validation/validation')\n",
    "    shutil.move('./lab_training_all/lab_training_all/'+list_files[i], './lab_validation/lab_validation')        "
   ]
  },
  {
   "cell_type": "code",
   "execution_count": null,
   "metadata": {},
   "outputs": [],
   "source": []
  }
 ],
 "metadata": {
  "kernelspec": {
   "display_name": "Python 3",
   "language": "python",
   "name": "python3"
  },
  "language_info": {
   "codemirror_mode": {
    "name": "ipython",
    "version": 3
   },
   "file_extension": ".py",
   "mimetype": "text/x-python",
   "name": "python",
   "nbconvert_exporter": "python",
   "pygments_lexer": "ipython3",
   "version": "3.6.9"
  }
 },
 "nbformat": 4,
 "nbformat_minor": 2
}
