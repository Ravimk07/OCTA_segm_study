{
 "cells": [
  {
   "cell_type": "code",
   "execution_count": null,
   "metadata": {},
   "outputs": [],
   "source": [
    "import numpy as np\n",
    "import matplotlib.pyplot as plt\n",
    "import os\n",
    "import glob\n",
    "import cv2\n",
    "import random"
   ]
  },
  {
   "cell_type": "code",
   "execution_count": null,
   "metadata": {},
   "outputs": [],
   "source": [
    "# Set image paths\n",
    "images_path = './training_im'\n",
    "gt_path = './gt_training'\n",
    "\n",
    "# Create output folders\n",
    "training_path =  './training_all'\n",
    "lab_training_path = './lab_training_all'\n",
    "\n",
    "os.mkdir(training_path);\n",
    "os.mkdir(lab_training_path);\n",
    "\n",
    "# Create subfolders\n",
    "training_path =  './training_all/training_all'\n",
    "lab_training_path = './lab_training_all/lab_training_all'\n",
    "\n",
    "os.mkdir(training_path);\n",
    "os.mkdir(lab_training_path);"
   ]
  },
  {
   "cell_type": "code",
   "execution_count": null,
   "metadata": {},
   "outputs": [],
   "source": [
    "for num, infile in enumerate(glob.glob(images_path +'\\*.tif')):\n",
    "    p, im_name = os.path.split(infile)\n",
    "    file, ext = os.path.splitext(im_name)\n",
    "    print(file)\n",
    "    # Read Ground Truth\n",
    "    gt = cv2.imread(gt_path +\"/\" + file + \".png\",0)\n",
    "    print(gt.shape)\n",
    "    im = cv2.imread(infile,0) # because they are gray scale\n",
    "\n",
    "\n",
    "    ind = list()\n",
    "    for i in range(1000):\n",
    "    \n",
    "        r = random.randint(0,91-32)\n",
    "        c = random.randint(0,91-32)\n",
    "        if (r,c) not in ind:\n",
    "            ind.append((r,c))\n",
    "            im2 = im[(0+r):(32+r), (0+c):(32+c)]\n",
    "            gt2 = gt[(0+r):(32+r), (0+c):(32+c)]\n",
    "            new_file =  file+ '%04d' %(i)\n",
    "            cv2.imwrite('./training_all/training_all/' + new_file +'.png',im2)\n",
    "            cv2.imwrite('./lab_training_all/lab_training_all/' + new_file +'.png',gt2)\n",
    "            \n",
    "            \n",
    "        else:\n",
    "            while (r,c) in ind:\n",
    "                  r = random.randint(0,91-32)\n",
    "                  c = random.randint(0,91-32)\n",
    "            ind.append((r,c))\n",
    "            im2 = im[(0+r):(32+r), (0+c):(32+c)]\n",
    "            gt2 = gt[(0+r):(32+r), (0+c):(32+c)]\n",
    "            new_file =  file+ '%04d' %(i)\n",
    "            cv2.imwrite('./training_all/training_all/' + new_file +'.png',im2)\n",
    "            cv2.imwrite('./lab_training_all/lab_training_all/' + new_file +'.png',gt2)\n",
    "                 "
   ]
  },
  {
   "cell_type": "code",
   "execution_count": null,
   "metadata": {},
   "outputs": [],
   "source": []
  }
 ],
 "metadata": {
  "kernelspec": {
   "display_name": "Python 3",
   "language": "python",
   "name": "python3"
  },
  "language_info": {
   "codemirror_mode": {
    "name": "ipython",
    "version": 3
   },
   "file_extension": ".py",
   "mimetype": "text/x-python",
   "name": "python",
   "nbconvert_exporter": "python",
   "pygments_lexer": "ipython3",
   "version": "3.6.9"
  }
 },
 "nbformat": 4,
 "nbformat_minor": 2
}