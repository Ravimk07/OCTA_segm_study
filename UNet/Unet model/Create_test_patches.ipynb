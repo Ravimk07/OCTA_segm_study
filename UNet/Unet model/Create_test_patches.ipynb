{
 "cells": [
  {
   "cell_type": "code",
   "execution_count": null,
   "metadata": {},
   "outputs": [],
   "source": [
    "import numpy as np\n",
    "import matplotlib.pyplot as plt\n",
    "import os\n",
    "import glob\n",
    "import cv2\n",
    "import random"
   ]
  },
  {
   "cell_type": "code",
   "execution_count": null,
   "metadata": {},
   "outputs": [],
   "source": [
    "# Set image paths\n",
    "images_path =\"./test_im\"\n",
    "\n",
    "test_patches = './test_patches/'\n",
    "os.mkdir(test_patches);\n",
    "\n",
    "test_patches = './test_patches/test_patches'\n",
    "os.mkdir(test_patches);"
   ]
  },
  {
   "cell_type": "code",
   "execution_count": null,
   "metadata": {},
   "outputs": [],
   "source": [
    "for num, infile in enumerate(glob.glob(images_path +'/*.tif')):\n",
    "    p, im_name = os.path.split(infile)\n",
    "    file, ext = os.path.splitext(im_name)\n",
    "    print(file)\n",
    "    im = cv2.imread(infile,0) # because they are gray scale\n",
    "    \n",
    "    newimage = np.zeros((96, 96))\n",
    "    newimage[0:91,0:91] = im\n",
    "    \n",
    "    patch_nw = newimage[0:32,0:32]\n",
    "    patch_n = newimage[0:32, 32:64]\n",
    "    patch_ne = newimage[0:32, 64:96]\n",
    "\n",
    "    patch_w = newimage[32:64,0:32]\n",
    "    patch_c = newimage[32:64, 32:64]\n",
    "    patch_e = newimage[32:64, 64:96]\n",
    "   \n",
    "    patch_sw = newimage[64:96,0:32]\n",
    "    patch_s = newimage[64:96, 32:64]\n",
    "    patch_se = newimage[64:96, 64:96]\n",
    "    \n",
    "    \n",
    "    cv2.imwrite('./test_patches/test_patches/' + file + '0' +'.png',patch_nw)\n",
    "    cv2.imwrite('./test_patches/test_patches/' + file + '1'+'.png',patch_n)\n",
    "    cv2.imwrite('./test_patches/test_patches/'+ file + '2'+'.png',patch_ne)\n",
    "    \n",
    "    cv2.imwrite('./test_patches/test_patches/' + file + '3'+'.png',patch_w)\n",
    "    cv2.imwrite('./test_patches/test_patches/' + file + '4'+'.png',patch_c)\n",
    "    cv2.imwrite('./test_patches/test_patches/' + file + '5'+'.png',patch_e)\n",
    "    \n",
    "    cv2.imwrite('./test_patches/test_patches/' + file + '6'+'.png',patch_sw)\n",
    "    cv2.imwrite('./test_patches/test_patches/' + file + '7' +'.png',patch_s)\n",
    "    cv2.imwrite('./test_patches/test_patches/' + file + '8' + '.png',patch_se)\n",
    "         "
   ]
  },
  {
   "cell_type": "code",
   "execution_count": null,
   "metadata": {},
   "outputs": [],
   "source": []
  }
 ],
 "metadata": {
  "kernelspec": {
   "display_name": "Python 3",
   "language": "python",
   "name": "python3"
  },
  "language_info": {
   "codemirror_mode": {
    "name": "ipython",
    "version": 3
   },
   "file_extension": ".py",
   "mimetype": "text/x-python",
   "name": "python",
   "nbconvert_exporter": "python",
   "pygments_lexer": "ipython3",
   "version": "3.6.9"
  }
 },
 "nbformat": 4,
 "nbformat_minor": 2
}
