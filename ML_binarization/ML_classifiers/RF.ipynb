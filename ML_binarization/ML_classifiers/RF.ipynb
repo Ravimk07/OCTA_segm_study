{
 "cells": [
  {
   "cell_type": "code",
   "execution_count": null,
   "metadata": {},
   "outputs": [],
   "source": [
    "from __future__ import division\n",
    "import numpy as np\n",
    "import os\n",
    "from sklearn.model_selection import train_test_split, GridSearchCV\n",
    "from sklearn import preprocessing\n",
    "import random\n",
    "import glob\n",
    "import cv2\n",
    "from matplotlib import pyplot as plt"
   ]
  },
  {
   "cell_type": "code",
   "execution_count": null,
   "metadata": {},
   "outputs": [],
   "source": [
    "def load_data(filename):\n",
    "    f = open(filename, 'r')\n",
    "    csv_r = csv.reader(f, delimiter='\\t')\n",
    "    data = []\n",
    "    for row in csv_r:\n",
    "        data.append([float(elem) for elem in row])\n",
    "    return  np.array(data)"
   ]
  },
  {
   "cell_type": "code",
   "execution_count": null,
   "metadata": {},
   "outputs": [],
   "source": [
    "# Load Data: data is already normalized\n",
    "X = load_data('X_train.txt')\n",
    "print(X.shape)\n",
    "print(len(X))\n",
    "\n",
    "# load labels\n",
    "y = load_data(('y_train.txt'))\n",
    "y = np.ravel(y)\n",
    "print(y.shape)"
   ]
  },
  {
   "cell_type": "code",
   "execution_count": null,
   "metadata": {},
   "outputs": [],
   "source": [
    "# Select a balanced portion of vessel/background pixels to tune parameters\n",
    "all_idx = list(range(len(X)))\n",
    "idx_ves = list(np.ravel(np.where(y == 1)))\n",
    "#print(idx_ves.shape)\n",
    "\n",
    "idx_back = list(set(all_idx)-set(idx_ves))\n",
    "print(len(idx_ves))\n",
    "print(len(idx_back))\n"
   ]
  },
  {
   "cell_type": "code",
   "execution_count": null,
   "metadata": {},
   "outputs": [],
   "source": [
    "random.seed(1)\n",
    "ves_tuning = random.sample(idx_ves, 101404) \n",
    "back_tuning = random.sample(idx_back, 101404)\n",
    "idx_training = ves_tuning + back_tuning"
   ]
  },
  {
   "cell_type": "code",
   "execution_count": null,
   "metadata": {},
   "outputs": [],
   "source": [
    "from sklearn.ensemble import RandomForestClassifier\n",
    "# Instantiate model with 1000 decision trees\n",
    "rf = RandomForestClassifier(n_estimators = 100, random_state = 42)\n",
    "# Train the model on training data\n",
    "rf.fit(X[idx_training,:], y[idx_training]);"
   ]
  },
  {
   "cell_type": "code",
   "execution_count": null,
   "metadata": {},
   "outputs": [],
   "source": [
    "# save the model to disk\n",
    "filename = 'rf_model.sav'\n",
    "pickle.dump(rf, open(filename, 'wb'))"
   ]
  },
  {
   "cell_type": "code",
   "execution_count": null,
   "metadata": {},
   "outputs": [],
   "source": [
    "#Load test \n",
    "# Load Data\n",
    "X = load_data('X_test.txt')\n",
    "print(X.shape)\n",
    "print(len(X))\n",
    "\n",
    "y = load_data(('y_test.txt'))\n",
    "y = np.ravel(y)\n",
    "print(y.shape)"
   ]
  },
  {
   "cell_type": "code",
   "execution_count": null,
   "metadata": {},
   "outputs": [],
   "source": [
    "#load the model from disk\n",
    "loaded_model = pickle.load(open( 'rf_model.sav', 'rb'))\n",
    "result = loaded_model.score(X, y)\n",
    "print(result)\n"
   ]
  },
  {
   "cell_type": "code",
   "execution_count": null,
   "metadata": {},
   "outputs": [],
   "source": [
    "predict = loaded_model.predict(X)\n",
    "print(predict)"
   ]
  },
  {
   "cell_type": "code",
   "execution_count": null,
   "metadata": {},
   "outputs": [],
   "source": [
    "# Create output folder\n",
    "output = 'output_svm'\n",
    "os.mkdir(output)"
   ]
  },
  {
   "cell_type": "code",
   "execution_count": null,
   "metadata": {},
   "outputs": [],
   "source": [
    "# Retrieve name of images \n",
    "list_name = list()\n",
    "images_path = '../../filter/filter_test'\n",
    "for infile in glob.glob(images_path + '/*.png'):\n",
    "    p, im_name = os.path.split(infile)\n",
    "    file, ext = os.path.splitext(im_name)\n",
    "    list_name.append(file)\n",
    "    \n",
    "    \n",
    "j = 0    \n",
    "for num, i in enumerate(range(0,len(predict), 8281)):\n",
    "    im =  np.asarray(predict[j:i+8281])\n",
    "    im = im.reshape((91,91))\n",
    "    cv2.imwrite(output + '/'+list_name[num] + '.png' , im*255)\n",
    "    j = i+8281"
   ]
  }
 ],
 "metadata": {
  "kernelspec": {
   "display_name": "Python 3",
   "language": "python",
   "name": "python3"
  },
  "language_info": {
   "codemirror_mode": {
    "name": "ipython",
    "version": 3
   },
   "file_extension": ".py",
   "mimetype": "text/x-python",
   "name": "python",
   "nbconvert_exporter": "python",
   "pygments_lexer": "ipython3",
   "version": "3.7.1"
  }
 },
 "nbformat": 4,
 "nbformat_minor": 2
}
