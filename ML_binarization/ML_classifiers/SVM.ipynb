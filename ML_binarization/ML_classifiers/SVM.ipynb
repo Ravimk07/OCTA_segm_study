{
 "cells": [
  {
   "cell_type": "code",
   "execution_count": null,
   "metadata": {},
   "outputs": [],
   "source": [
    "from __future__ import division\n",
    "import random\n",
    "import cv2\n",
    "import glob\n",
    "import os\n",
    "import numpy as np\n",
    "from sklearn import svm\n",
    "from sklearn.model_selection import train_test_split, GridSearchCV\n",
    "from sklearn import preprocessing\n",
    "from matplotlib import pyplot as plt"
   ]
  },
  {
   "cell_type": "code",
   "execution_count": null,
   "metadata": {},
   "outputs": [],
   "source": [
    "def load_data(filename):\n",
    "    f = open(filename, 'r')\n",
    "    csv_r = csv.reader(f, delimiter='\\t')\n",
    "    data = []\n",
    "    for row in csv_r:\n",
    "        data.append([float(elem) for elem in row])\n",
    "    return  np.array(data)"
   ]
  },
  {
   "cell_type": "code",
   "execution_count": null,
   "metadata": {},
   "outputs": [],
   "source": [
    "def svc_param_selection(X, y, nfolds):\n",
    "\n",
    "    Cs = [0.001, 0.01, 0.1, 1, 10, 100, 1000]\n",
    "    gammas = [0.001, 0.01, 0.1, 1, 100]\n",
    "    param_grid = {'C': Cs, 'gamma' : gammas}\n",
    "    grid_search = GridSearchCV(svm.SVC(kernel='rbf'), param_grid, cv=nfolds, n_jobs = 8, pre_dispatch= 16, verbose = 5 )\n",
    "    grid_search.fit(X, y)\n",
    "    grid_search.best_params_\n",
    "    return grid_search.best_params_"
   ]
  },
  {
   "cell_type": "code",
   "execution_count": null,
   "metadata": {},
   "outputs": [],
   "source": [
    "# Load training data: data is already normalized\n",
    "X = load_data('X_train.txt')\n",
    "tot_pixel = len(X)\n",
    "print(X.shape)\n",
    "\n",
    "# load labels\n",
    "y = load_data(('y_train.txt'))\n",
    "y = np.ravel(y)\n",
    "print(y.shape)"
   ]
  },
  {
   "cell_type": "code",
   "execution_count": null,
   "metadata": {},
   "outputs": [],
   "source": [
    "# Select a balanced portion of vessel/background pixels to tune parameters\n",
    "random.seed(21)\n",
    "\n",
    "all_idx = list(range(len(X)))\n",
    "idx_ves = list(np.ravel(np.where(y == 1)))\n",
    "print(len(idx_ves))\n",
    "\n",
    "idx_back = list(set(all_idx)-set(idx_ves))\n",
    "print(len(idx_back))\n",
    "\n",
    "print(idx_ves[0:10])\n",
    "print(idx_back[0:10])\n"
   ]
  },
  {
   "cell_type": "code",
   "execution_count": null,
   "metadata": {},
   "outputs": [],
   "source": [
    "# Select 10% vessel pixels and 10% backgroud pixels for tuning\n",
    "ves_tuning = random.sample(idx_ves, 24843 ) \n",
    "back_tuning = random.sample(idx_back, 24843)\n",
    "idx_tuning = ves_tuning + back_tuning\n"
   ]
  },
  {
   "cell_type": "code",
   "execution_count": null,
   "metadata": {},
   "outputs": [],
   "source": [
    "# Cross validation to tune parameters\n",
    "best_parameters = svc_param_selection(X[idx_tuning,:], y[idx_tuning], 3)"
   ]
  },
  {
   "cell_type": "code",
   "execution_count": null,
   "metadata": {},
   "outputs": [],
   "source": [
    "best_parameters"
   ]
  },
  {
   "cell_type": "code",
   "execution_count": null,
   "metadata": {},
   "outputs": [],
   "source": [
    "clf = svm.SVC(gamma=1, C=1000)\n",
    "clf.fit(X[idx_tuning, :], y[idx_tuning])  "
   ]
  },
  {
   "cell_type": "code",
   "execution_count": null,
   "metadata": {},
   "outputs": [],
   "source": [
    "# save the model to disk\n",
    "filename = 'svm_model.sav'\n",
    "pickle.dump(clf, open(filename, 'wb'))"
   ]
  },
  {
   "cell_type": "code",
   "execution_count": null,
   "metadata": {},
   "outputs": [],
   "source": [
    "#Load test \n",
    "# Load Data\n",
    "X = load_data('X_test.txt')\n",
    "print(X.shape)\n",
    "print(len(X))\n",
    "\n",
    "y = load_data(('y_test.txt'))\n",
    "y = np.ravel(y)\n",
    "print(y.shape)"
   ]
  },
  {
   "cell_type": "code",
   "execution_count": null,
   "metadata": {
    "scrolled": true
   },
   "outputs": [],
   "source": [
    "#load the model from disk\n",
    "loaded_model = pickle.load(open('svm_model.sav', 'rb'))\n",
    "result = loaded_model.score(X, y)\n",
    "print(result)\n",
    "predict = loaded_model.predict(X)\n",
    "print(predict)"
   ]
  },
  {
   "cell_type": "code",
   "execution_count": null,
   "metadata": {},
   "outputs": [],
   "source": [
    "# Create output folder\n",
    "output = 'output_svm'\n",
    "os.mkdir(output)"
   ]
  },
  {
   "cell_type": "code",
   "execution_count": null,
   "metadata": {},
   "outputs": [],
   "source": [
    "# Retrieve name of images \n",
    "list_name = list()\n",
    "images_path = '../../filter/filter_test'\n",
    "for infile in glob.glob(images_path + '/*.png'):\n",
    "    p, im_name = os.path.split(infile)\n",
    "    file, ext = os.path.splitext(im_name)\n",
    "    list_name.append(file)\n",
    "    \n",
    "    \n",
    "j = 0    \n",
    "for num, i in enumerate(range(0,len(predict), 8281)):\n",
    "    im =  np.asarray(predict[j:i+8281])\n",
    "    im = im.reshape((91,91))\n",
    "    cv2.imwrite(output + '/' + list_name[num] + '.png' , im*255)\n",
    "    j = i+8281"
   ]
  }
 ],
 "metadata": {
  "kernelspec": {
   "display_name": "Python 3",
   "language": "python",
   "name": "python3"
  },
  "language_info": {
   "codemirror_mode": {
    "name": "ipython",
    "version": 3
   },
   "file_extension": ".py",
   "mimetype": "text/x-python",
   "name": "python",
   "nbconvert_exporter": "python",
   "pygments_lexer": "ipython3",
   "version": "3.7.1"
  }
 },
 "nbformat": 4,
 "nbformat_minor": 2
}
