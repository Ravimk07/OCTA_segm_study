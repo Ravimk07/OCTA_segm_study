{
 "cells": [
  {
   "cell_type": "code",
   "execution_count": null,
   "metadata": {},
   "outputs": [],
   "source": [
    "import numpy as np\n",
    "from sklearn.model_selection import train_test_split\n",
    "from sklearn import preprocessing\n",
    "import random\n",
    "import glob\n",
    "import cv2\n",
    "from sklearn.neighbors import KNeighborsClassifier\n",
    "from sklearn import neighbors\n",
    "from sklearn import preprocessing"
   ]
  },
  {
   "cell_type": "code",
   "execution_count": null,
   "metadata": {},
   "outputs": [],
   "source": [
    "def load_data(filename):\n",
    "    f = open(filename, 'r')\n",
    "    csv_r = csv.reader(f, delimiter='\\t')\n",
    "    data = []\n",
    "    for row in csv_r:\n",
    "        data.append([float(elem) for elem in row])\n",
    "    return  np.array(data)"
   ]
  },
  {
   "cell_type": "code",
   "execution_count": null,
   "metadata": {},
   "outputs": [],
   "source": [
    "# Load Data: data is already normalized\n",
    "X = load_data('X_train.txt')\n",
    "print(X.shape)\n",
    "print(len(X))\n",
    "\n",
    "# load labels\n",
    "y = load_data(('y_train.txt'))\n",
    "y = np.ravel(y)\n",
    "print(y.shape)"
   ]
  },
  {
   "cell_type": "code",
   "execution_count": null,
   "metadata": {},
   "outputs": [],
   "source": [
    "# Select a balanced portion of vessel/background pixels dataset to tune parameters\n",
    "all_idx = list(range(len(X)))\n",
    "idx_ves = list(np.ravel(np.where(y == 1)))\n",
    "#print(idx_ves.shape)\n",
    "\n",
    "idx_back = list(set(all_idx)-set(idx_ves))\n",
    "print(len(idx_back))\n",
    "print(len(idx_ves))"
   ]
  },
  {
   "cell_type": "code",
   "execution_count": null,
   "metadata": {},
   "outputs": [],
   "source": [
    "ves_tuning = random.sample(idx_ves, 101404) \n",
    "back_tuning = random.sample(idx_back, 101404)\n",
    "idx_training = ves_tuning + back_tuning"
   ]
  },
  {
   "cell_type": "code",
   "execution_count": null,
   "metadata": {},
   "outputs": [],
   "source": [
    "MD_neigh = KNeighborsClassifier(n_neighbors=5)"
   ]
  },
  {
   "cell_type": "code",
   "execution_count": null,
   "metadata": {},
   "outputs": [],
   "source": [
    "MD_neigh.fit(X[idx_training,:], y[idx_training])\n",
    "print(MD_neigh)"
   ]
  },
  {
   "cell_type": "code",
   "execution_count": null,
   "metadata": {},
   "outputs": [],
   "source": [
    "# save the model to disk\n",
    "filename = 'knn_model.sav'\n",
    "pickle.dump(MD_neigh, open(filename, 'wb'))"
   ]
  },
  {
   "cell_type": "code",
   "execution_count": null,
   "metadata": {},
   "outputs": [],
   "source": [
    "#Load test \n",
    "# Load Data\n",
    "X = load_data('X_test.txt')\n",
    "print(X.shape)\n",
    "print(len(X))\n",
    "\n",
    "y = load_data(('y_test.txt'))\n",
    "y = np.ravel(y)\n",
    "print(y.shape)"
   ]
  },
  {
   "cell_type": "code",
   "execution_count": null,
   "metadata": {},
   "outputs": [],
   "source": [
    "#load the model from disk\n",
    "loaded_model = pickle.load(open( 'knn_model.sav', 'rb'))\n",
    "result = loaded_model.score(X, y)\n",
    "print(result)"
   ]
  },
  {
   "cell_type": "code",
   "execution_count": null,
   "metadata": {},
   "outputs": [],
   "source": [
    "predict = loaded_model.predict(X)\n",
    "print(predict)"
   ]
  },
  {
   "cell_type": "code",
   "execution_count": null,
   "metadata": {},
   "outputs": [],
   "source": [
    "# Create output folder\n",
    "output = 'output_knn'\n",
    "os.mkdir(output)"
   ]
  },
  {
   "cell_type": "code",
   "execution_count": null,
   "metadata": {},
   "outputs": [],
   "source": [
    "list_name = list()\n",
    "images_path = '../../filter/filter_test'\n",
    "for infile in glob.glob(images_path + '/*.png'):\n",
    "    p, im_name = os.path.split(infile)\n",
    "    file, ext = os.path.splitext(im_name)\n",
    "    list_name.append(file)\n",
    "    \n",
    "    \n",
    "j = 0    \n",
    "for num, i in enumerate(range(0,len(predict), 8281)):\n",
    "    im =  np.asarray(predict[j:i+8281])\n",
    "    im = im.reshape((91,91))\n",
    "    cv2.imwrite(output + '/'+list_name[num] + '.png' , im*255)\n",
    "    j = i+8281\n",
    "    "
   ]
  }
 ],
 "metadata": {
  "kernelspec": {
   "display_name": "Python 3",
   "language": "python",
   "name": "python3"
  },
  "language_info": {
   "codemirror_mode": {
    "name": "ipython",
    "version": 3
   },
   "file_extension": ".py",
   "mimetype": "text/x-python",
   "name": "python",
   "nbconvert_exporter": "python",
   "pygments_lexer": "ipython3",
   "version": "3.7.1"
  }
 },
 "nbformat": 4,
 "nbformat_minor": 2
}
