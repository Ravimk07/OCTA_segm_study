{
 "cells": [
  {
   "cell_type": "code",
   "execution_count": null,
   "metadata": {},
   "outputs": [],
   "source": [
    "import numpy as np\n",
    "import os\n",
    "import glob\n",
    "import cv2\n",
    "import random"
   ]
  },
  {
   "cell_type": "code",
   "execution_count": null,
   "metadata": {},
   "outputs": [],
   "source": [
    "def padding(image,size):\n",
    "    image = cv2.copyMakeBorder(image,size,size,size,size,cv2.BORDER_REFLECT_101)\n",
    "    return image"
   ]
  },
  {
   "cell_type": "code",
   "execution_count": null,
   "metadata": {},
   "outputs": [],
   "source": [
    "def balance_classes(image):\n",
    "\n",
    "    vessels = cv2.countNonZero(image)\n",
    "    backgr = image.size-vessels\n",
    "\n",
    "    # Extract from the GT the indices of vessels/background to get balanced classes\n",
    "    \n",
    "    # Vessel pixels\n",
    "    idx_vi, idx_vj = np.where(image !=0)\n",
    "    idx_v =  list(zip(idx_vi, idx_vj))\n",
    "    \n",
    "    # Background pixels\n",
    "    idx_bi, idx_bj = np.where(image ==0)\n",
    "    idx_b = list(zip(idx_bi, idx_bj))\n",
    "\n",
    "    \n",
    "    #  Select the same number of vessel/background pixels\n",
    "    random.seed(42)\n",
    "    if vessels < backgr:\n",
    "        idx_b = random.sample(idx_b, vessels)\n",
    "        \n",
    "    else:\n",
    "        idx_v = random.sample(idx_v, backgr)\n",
    "    \n",
    "    return idx_v, idx_b"
   ]
  },
  {
   "cell_type": "code",
   "execution_count": null,
   "metadata": {},
   "outputs": [],
   "source": [
    "def save_subimages(image, gt_im, file, pad_size,neig_size,idx_v, idx_b):\n",
    "    \n",
    "    list_ves = [(idx[0]+pad_size, idx[1]+pad_size) for idx in idx_v]\n",
    "    list_bac = [(idx[0]+pad_size, idx[1]+pad_size) for idx in idx_b]\n",
    "    for im_n, idx in enumerate(list_ves):\n",
    "        crop_im = (image[idx[0]-pad_size:idx[0]+(pad_size+1) , idx[1]-pad_size:idx[1]+(pad_size+1)])\n",
    "        new_file =  file+ '%05d' %(im_n)\n",
    "        #cv2.imwrite('D:/CNN/test_im/' + new_file +'.png',crop_im)\n",
    "        cv2.imwrite('./training_all/vessel/' + new_file +'.png',crop_im)\n",
    "    for im_n, idx in enumerate(list_bac):\n",
    "        crop_im = (image[idx[0]-pad_size:idx[0]+(pad_size+1) , idx[1]-pad_size:idx[1]+(pad_size+1)])\n",
    "        new_file =  file+ '%05d' %(im_n)\n",
    "        #cv2.imwrite('D:/CNN/test_im/' + new_file +'.png',crop_im)\n",
    "        cv2.imwrite('./training_all/background/' + new_file +'.png',crop_im)\n",
    "    return  "
   ]
  },
  {
   "cell_type": "code",
   "execution_count": null,
   "metadata": {},
   "outputs": [],
   "source": [
    "# Set image paths\n",
    "images_path = './training_im'\n",
    "gt_path = \"./gt_training\""
   ]
  },
  {
   "cell_type": "code",
   "execution_count": null,
   "metadata": {},
   "outputs": [],
   "source": [
    "# Create output folders\n",
    "import os\n",
    "training_path =  './training_all'\n",
    "vessel_path = './training_all/vessel'\n",
    "background_path = './training_all/background'\n",
    "os.mkdir(training_path);\n",
    "os.mkdir(vessel_path);\n",
    "os.mkdir(background_path);"
   ]
  },
  {
   "cell_type": "code",
   "execution_count": null,
   "metadata": {},
   "outputs": [],
   "source": [
    "# Define padding size and the neighborhood size\n",
    "pad_size = 30\n",
    "neig_size = 61\n",
    "\n",
    "y = list()\n",
    "for num, infile in enumerate(glob.glob(images_path +'/*.tif')):\n",
    "    p, im_name = os.path.split(infile)\n",
    "    file, ext = os.path.splitext(im_name)\n",
    "    print(file)\n",
    "    # Read Ground Truth\n",
    "    gt = cv2.imread(gt_path +\"/\" + file + \".png\",0)\n",
    "    print(gt.shape)\n",
    "    im = cv2.imread(infile,0) # because they are gray scale\n",
    "    print(im.shape)\n",
    "    print(im.size)\n",
    "    \n",
    "    # Extract vessel/background pixels\n",
    "    idx_v, idx_b = balance_classes(gt)\n",
    "    \n",
    "    # Padding\n",
    "    pad_im = padding(im, 30)\n",
    "    save_subimages(pad_im, gt, file, pad_size, neig_size, idx_v, idx_b)\n",
    "    "
   ]
  }
 ],
 "metadata": {
  "kernelspec": {
   "display_name": "Python 3",
   "language": "python",
   "name": "python3"
  },
  "language_info": {
   "codemirror_mode": {
    "name": "ipython",
    "version": 3
   },
   "file_extension": ".py",
   "mimetype": "text/x-python",
   "name": "python",
   "nbconvert_exporter": "python",
   "pygments_lexer": "ipython3",
   "version": "3.6.9"
  }
 },
 "nbformat": 4,
 "nbformat_minor": 2
}
