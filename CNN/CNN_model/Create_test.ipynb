{
 "cells": [
  {
   "cell_type": "code",
   "execution_count": null,
   "metadata": {},
   "outputs": [],
   "source": [
    "import numpy as np\n",
    "import matplotlib.pyplot as plt\n",
    "import os\n",
    "import glob\n",
    "import cv2"
   ]
  },
  {
   "cell_type": "code",
   "execution_count": null,
   "metadata": {},
   "outputs": [],
   "source": [
    "def padding(image,size):\n",
    "    image = cv2.copyMakeBorder(image,size,size,size,size,cv2.BORDER_REFLECT_101)\n",
    "    return image"
   ]
  },
  {
   "cell_type": "code",
   "execution_count": null,
   "metadata": {},
   "outputs": [],
   "source": [
    "def save_subimages(image, file, pad_size,neig_size, idx_list):\n",
    "\n",
    "    idx_list = [(idx[0]+pad_size, idx[1]+pad_size) for idx in idx_list]\n",
    "    for im_n, idx in enumerate(idx_list):\n",
    "        crop_im = (image[idx[0]-pad_size:idx[0]+(pad_size+1) , idx[1]-pad_size:idx[1]+(pad_size+1)])\n",
    "        new_file =  file+ '%04d' %(im_n)\n",
    "        print(new_file)\n",
    "        cv2.imwrite('./test/' + new_file +'.png',crop_im)\n",
    "    return "
   ]
  },
  {
   "cell_type": "code",
   "execution_count": null,
   "metadata": {},
   "outputs": [],
   "source": [
    "# Set path to the original images in the test folder\n",
    "images_path = './test_im/'"
   ]
  },
  {
   "cell_type": "code",
   "execution_count": null,
   "metadata": {},
   "outputs": [],
   "source": [
    "# Create test input folder\n",
    "import os\n",
    "test_path =  './test'\n",
    "os.mkdir(test_path);"
   ]
  },
  {
   "cell_type": "code",
   "execution_count": null,
   "metadata": {},
   "outputs": [],
   "source": [
    "# Define padding size and neighbourhood size\n",
    "pad_size = 30\n",
    "neig_size = 61\n",
    "\n",
    "y = list()\n",
    "for num, infile in enumerate(glob.glob(images_path +'\\*.tif')):\n",
    "    p, im_name = os.path.split(infile)\n",
    "    file, ext = os.path.splitext(im_name)\n",
    "    im = cv2.imread(infile,0) # because they are gray scale\n",
    "    \n",
    "    # intensities go from 0-255\n",
    "    idxi, idxj = np.where(im !=300) # all indices\n",
    "    idx_list =  list(zip(idxi, idxj))\n",
    "    \n",
    "    pad_im = padding(im, 30)\n",
    "    save_subimages(pad_im,file, pad_size, neig_size, idx_list)\n",
    "    \n",
    "    "
   ]
  },
  {
   "cell_type": "code",
   "execution_count": null,
   "metadata": {},
   "outputs": [],
   "source": [
    "gt_path = './gt_test'\n",
    "y = list()\n",
    "for infile in glob.glob(images_path +'\\*.tif'):\n",
    "    p, im_name = os.path.split(infile)\n",
    "    file, ext = os.path.splitext(im_name)\n",
    "    print(file)\n",
    "    # Read Ground Truth\n",
    "    gt = cv2.imread(gt_path +\"/\" + file + \".png\",0)\n",
    "    print(gt.shape)\n",
    "    new_list = list(gt.flat)\n",
    "    y = y + new_list\n",
    "print(len(y))"
   ]
  },
  {
   "cell_type": "code",
   "execution_count": null,
   "metadata": {},
   "outputs": [],
   "source": [
    "for el in range(len(y)):\n",
    "    if y[el] == 255:\n",
    "        y[el] = 1\n",
    "yf = np.asarray(y)\n",
    "print(np.unique(yf))\n",
    "\n",
    "\n",
    "np.savetxt(\"./labels_ts\", yf, delimiter=',') "
   ]
  }
 ],
 "metadata": {
  "kernelspec": {
   "display_name": "Python 3",
   "language": "python",
   "name": "python3"
  },
  "language_info": {
   "codemirror_mode": {
    "name": "ipython",
    "version": 3
   },
   "file_extension": ".py",
   "mimetype": "text/x-python",
   "name": "python",
   "nbconvert_exporter": "python",
   "pygments_lexer": "ipython3",
   "version": "3.6.9"
  }
 },
 "nbformat": 4,
 "nbformat_minor": 2
}
