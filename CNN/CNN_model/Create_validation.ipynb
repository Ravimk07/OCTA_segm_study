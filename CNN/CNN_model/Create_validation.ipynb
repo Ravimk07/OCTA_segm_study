{
 "cells": [
  {
   "cell_type": "code",
   "execution_count": null,
   "metadata": {},
   "outputs": [],
   "source": [
    "import numpy as np\n",
    "import os\n",
    "import glob\n",
    "import cv2\n",
    "import random"
   ]
  },
  {
   "cell_type": "code",
   "execution_count": null,
   "metadata": {},
   "outputs": [],
   "source": [
    "# Create output folders\n",
    "# Training\n",
    "training_path =  './training'\n",
    "vessel_path = './training/vessel'\n",
    "background_path = './training/background'\n",
    "\n",
    "os.mkdir(training_path);\n",
    "os.mkdir(vessel_path);\n",
    "os.mkdir(background_path);\n",
    "\n",
    "# Validation\n",
    "val_path =  './validation'\n",
    "val_vessel_path = './validation/vessel'\n",
    "val_background_path = './validation/background'\n",
    "os.mkdir(val_path);\n",
    "os.mkdir(val_vessel_path);\n",
    "os.mkdir(val_background_path);"
   ]
  },
  {
   "cell_type": "code",
   "execution_count": null,
   "metadata": {},
   "outputs": [],
   "source": [
    "images_path = './training_all/background/'\n",
    "\n",
    "random.seed = 2019\n",
    "path, dirs, files = next(os.walk(images_path))\n",
    "file_count = len(files)\n",
    "\n",
    "\n",
    "tot_back = range(file_count)\n",
    "back_val = random.sample(tot_back, int(file_count/10))\n",
    "back_train = list(set(tot_back)-set(back_val))\n",
    "\n",
    "for el in back_val:\n",
    "    im = cv2.imread(images_path+'/'+files[el])\n",
    "    cv2.imwrite('./validation/background/' + files[el], im)\n",
    "\n",
    "for el in back_train:\n",
    "    im = cv2.imread(images_path+'/'+files[el])\n",
    "    cv2.imwrite('./training/background/' + files[el], im)\n",
    "                         \n"
   ]
  },
  {
   "cell_type": "code",
   "execution_count": null,
   "metadata": {},
   "outputs": [],
   "source": [
    "print(tot_back[:10])\n",
    "print(back_val[:10])\n",
    "print(back_train[:10])"
   ]
  },
  {
   "cell_type": "code",
   "execution_count": null,
   "metadata": {},
   "outputs": [],
   "source": [
    "images_path = './training_all/vessel/'\n",
    "\n",
    "path, dirs, files = next(os.walk(images_path))\n",
    "file_count = len(files)\n",
    "\n",
    "tot_vess = range(file_count)\n",
    "vess_val = random.sample(tot_vess, int(file_count/10))\n",
    "vess_train = list(set(tot_vess)-set(vess_val))\n",
    "\n",
    "for el in vess_val:\n",
    "    im = cv2.imread(images_path+'/'+files[el])\n",
    "    cv2.imwrite('./validation/vessel/' + files[el], im)\n",
    "\n",
    "for el in vess_train:\n",
    "    im = cv2.imread(images_path+'/'+files[el])\n",
    "    cv2.imwrite('./training/vessel/' + files[el], im)"
   ]
  },
  {
   "cell_type": "code",
   "execution_count": null,
   "metadata": {},
   "outputs": [],
   "source": [
    "for el in vess_train:\n",
    "    im = cv2.imread(images_path+'/'+files[el])\n",
    "    cv2.imwrite('./training/vessel/' + files[el], im)"
   ]
  },
  {
   "cell_type": "code",
   "execution_count": null,
   "metadata": {},
   "outputs": [],
   "source": [
    "for el in vess_train:\n",
    "    im = cv2.imread(images_path+'/'+files[el])\n",
    "    cv2.imwrite('/training/vessel/' + files[el], im)"
   ]
  }
 ],
 "metadata": {
  "kernelspec": {
   "display_name": "Python 3",
   "language": "python",
   "name": "python3"
  },
  "language_info": {
   "codemirror_mode": {
    "name": "ipython",
    "version": 3
   },
   "file_extension": ".py",
   "mimetype": "text/x-python",
   "name": "python",
   "nbconvert_exporter": "python",
   "pygments_lexer": "ipython3",
   "version": "3.6.9"
  }
 },
 "nbformat": 4,
 "nbformat_minor": 2
}
