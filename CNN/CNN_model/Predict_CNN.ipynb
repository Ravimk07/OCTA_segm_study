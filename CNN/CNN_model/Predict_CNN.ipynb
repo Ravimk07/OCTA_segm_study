{
 "cells": [
  {
   "cell_type": "code",
   "execution_count": null,
   "metadata": {},
   "outputs": [],
   "source": [
    "import numpy as np\n",
    "import os\n",
    "import sys\n",
    "import glob\n",
    "import cv2\n",
    "from matplotlib import pyplot as plt\n",
    "from keras.models import model_from_json\n",
    "from keras.models import load_model\n",
    "import matplotlib.pyplot as plt\n",
    "import tensorflow as tf\n",
    "from mygenerator import DataGenerator"
   ]
  },
  {
   "cell_type": "code",
   "execution_count": null,
   "metadata": {},
   "outputs": [],
   "source": [
    "list_predict = list()\n",
    "\n",
    "for file in glob.glob(\"./test/*.png\"):\n",
    "    list_predict.append(file)\n",
    "    \n",
    "lab_predict = np.loadtxt('./labels_ts')\n",
    "\n",
    "labels = dict(zip(list_predict, lab_predict))\n",
    "\n",
    "partition = {'predict': list_predict}"
   ]
  },
  {
   "cell_type": "code",
   "execution_count": null,
   "metadata": {},
   "outputs": [],
   "source": [
    "# Parameters\n",
    "params = {'dim': 61,\n",
    "          'batch_size': 1,\n",
    "          'n_classes': 2,\n",
    "          'n_channels': 1,\n",
    "          'shuffle': False}\n",
    "\n",
    "predict_generator = DataGenerator(partition['predict'], labels,  **params)"
   ]
  },
  {
   "cell_type": "code",
   "execution_count": null,
   "metadata": {},
   "outputs": [],
   "source": [
    "# load json and create model\n",
    "json_file = open('model.json', 'r')\n",
    "\n",
    "loaded_model_json = json_file.read()\n",
    "json_file.close()\n",
    "loaded_model = model_from_json(loaded_model_json)\n",
    "\n",
    "# load weights into new model\n",
    "loaded_model.load_weights(\"model.h5\")\n",
    "print(\"Loaded model\")"
   ]
  },
  {
   "cell_type": "code",
   "execution_count": null,
   "metadata": {},
   "outputs": [],
   "source": [
    "predict = loaded_model.predict_generator(predict_generator,steps = len(list_predict))"
   ]
  },
  {
   "cell_type": "code",
   "execution_count": null,
   "metadata": {},
   "outputs": [],
   "source": [
    "probabilites = list(predict)\n",
    "print(len(probabilites))"
   ]
  },
  {
   "cell_type": "code",
   "execution_count": null,
   "metadata": {},
   "outputs": [],
   "source": [
    "probs = [probabilites[el][0] for el in range(len(probabilites))]"
   ]
  },
  {
   "cell_type": "code",
   "execution_count": null,
   "metadata": {},
   "outputs": [],
   "source": [
    "print(probs[:10])"
   ]
  },
  {
   "cell_type": "code",
   "execution_count": null,
   "metadata": {},
   "outputs": [],
   "source": [
    "# Visualize the first image\n",
    "im = probs[:8281]\n",
    "im = np.asarray(im)\n",
    "im = im.reshape((91,91))\n",
    "plt.figure(figsize=[5,5])\n",
    "plt.subplot(121) \n",
    "plt.imshow(im, cmap='gray')"
   ]
  },
  {
   "cell_type": "code",
   "execution_count": null,
   "metadata": {},
   "outputs": [],
   "source": [
    "# Create output folder\n",
    "import os\n",
    "test_path =  './test_outIm'\n",
    "os.mkdir(test_path);"
   ]
  },
  {
   "cell_type": "code",
   "execution_count": null,
   "metadata": {
    "scrolled": true
   },
   "outputs": [],
   "source": [
    "# Retrieve names of the images\n",
    "j = 0\n",
    "list_name = list()\n",
    "# Set image paths\n",
    "images_path = \"./test_im\"\n",
    "for infile in glob.glob(images_path + '/*.tif'):\n",
    "    print(infile)\n",
    "    p, im_name = os.path.split(infile)\n",
    "    file, ext = os.path.splitext(im_name)\n",
    "    list_name.append(file)\n",
    "    \n",
    "    \n",
    "for num, i in enumerate(range(0,len(probabilites), 8281)):\n",
    "    print(j, i)\n",
    "    im =  np.asarray(probs[j:i+8281])\n",
    "    im = im.reshape((91,91))\n",
    "    plt.imshow(im*255, cmap='gray')\n",
    "    cv2.imwrite('./'+ test_path  + '/' + list_name[num] + '.png' , im*255)\n",
    "    j = i+8281"
   ]
  }
 ],
 "metadata": {
  "kernelspec": {
   "display_name": "Python 3",
   "language": "python",
   "name": "python3"
  },
  "language_info": {
   "codemirror_mode": {
    "name": "ipython",
    "version": 3
   },
   "file_extension": ".py",
   "mimetype": "text/x-python",
   "name": "python",
   "nbconvert_exporter": "python",
   "pygments_lexer": "ipython3",
   "version": "3.6.9"
  }
 },
 "nbformat": 4,
 "nbformat_minor": 2
}
