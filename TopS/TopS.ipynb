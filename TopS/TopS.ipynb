{
 "cells": [
  {
   "cell_type": "code",
   "execution_count": 5,
   "metadata": {},
   "outputs": [],
   "source": [
    "import gudhi as gd\n",
    "import os\n",
    "import glob\n",
    "import numpy as np"
   ]
  },
  {
   "cell_type": "code",
   "execution_count": 6,
   "metadata": {},
   "outputs": [
    {
     "name": "stdout",
     "output_type": "stream",
     "text": [
      "_ED001_OD_ROIfovea\n",
      "Segmented image\n",
      "Ground Truth\n",
      "0.8648648648648649\n"
     ]
    }
   ],
   "source": [
    "# Create birth_death pickle file for each image in /OCTAcubicalcomplex/\n",
    "list_TopS = []\n",
    "\n",
    "\n",
    "for filename in glob.glob('./OCTAcubicalcomplex/binary_images/*.txt'):\n",
    "    ## Segmented image\n",
    "    # Save file name  \n",
    "    file = os.path.basename(filename)\n",
    "    name = os.path.splitext(file)[0]\n",
    "    print(name)\n",
    "    \n",
    "    print('Segmented image')\n",
    "    # Compute cubical complex\n",
    "    cubical_complex = gd.CubicalComplex(perseus_file=filename)\n",
    "    pers = cubical_complex.persistence()\n",
    "    \n",
    "    # Betti numbers     \n",
    "    betas_s = cubical_complex.persistent_betti_numbers(0,0.99) \n",
    "    \n",
    "    ## Ground Truth image\n",
    "    print('Ground Truth')\n",
    "    # Retrieve the ground truth from the gt_images folder\n",
    "    file_g = './OCTAcubicalcomplex/gt_images/'+ name +'.txt'\n",
    "    \n",
    "    # Compute cubical_complex for the ground truth image\n",
    "    cubical_complex = gd.CubicalComplex(perseus_file=file_g)\n",
    "    pers = cubical_complex.persistence()\n",
    "    \n",
    "    # Betti numbers  \n",
    "    betas_g = cubical_complex.persistent_betti_numbers(0,0.99) \n",
    "    \n",
    "    \n",
    "    ## Compute TopS\n",
    "    ratio = np.divide(abs(betas_g[1] - betas_s[1]), betas_g[1])\n",
    "    min_ratio = min(1,ratio)\n",
    "    TopS= 1-min_ratio\n",
    "    \n",
    "    \n",
    "    list_TopS.append(TopS)\n",
    "    \n"
   ]
  },
  {
   "cell_type": "code",
   "execution_count": null,
   "metadata": {},
   "outputs": [],
   "source": []
  }
 ],
 "metadata": {
  "kernelspec": {
   "display_name": "Python 3",
   "language": "python",
   "name": "python3"
  },
  "language_info": {
   "codemirror_mode": {
    "name": "ipython",
    "version": 3
   },
   "file_extension": ".py",
   "mimetype": "text/x-python",
   "name": "python",
   "nbconvert_exporter": "python",
   "pygments_lexer": "ipython3",
   "version": "3.7.3"
  }
 },
 "nbformat": 4,
 "nbformat_minor": 2
}
